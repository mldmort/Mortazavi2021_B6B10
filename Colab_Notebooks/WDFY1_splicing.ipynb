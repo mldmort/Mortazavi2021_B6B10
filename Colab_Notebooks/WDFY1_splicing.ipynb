{
  "nbformat": 4,
  "nbformat_minor": 0,
  "metadata": {
    "colab": {
      "name": "WDFY1_splicing.ipynb",
      "provenance": [],
      "authorship_tag": "ABX9TyNbqVXupneAy0V0RnQCz2Un",
      "include_colab_link": true
    },
    "kernelspec": {
      "name": "python3",
      "display_name": "Python 3"
    },
    "language_info": {
      "name": "python"
    }
  },
  "cells": [
    {
      "cell_type": "markdown",
      "metadata": {
        "id": "view-in-github",
        "colab_type": "text"
      },
      "source": [
        "<a href=\"https://colab.research.google.com/github/mldmort/Mortazavi2021_B6B10/blob/main/Colab_Notebooks/WDFY1_splicing.ipynb\" target=\"_parent\"><img src=\"https://colab.research.google.com/assets/colab-badge.svg\" alt=\"Open In Colab\"/></a>"
      ]
    },
    {
      "cell_type": "markdown",
      "metadata": {
        "id": "HppDggeP-a7N"
      },
      "source": [
        "# To run this script\n",
        "\n",
        "---\n",
        "Upload the file `rpkm_KO_WT_normalized_CPM1.txt` from [here](https://drive.google.com/drive/u/1/folders/1g6WIabQRq3H0IpUBDZSswbRIbpRDYjY6) into the content folder of this page.\n"
      ]
    },
    {
      "cell_type": "code",
      "metadata": {
        "id": "UE0vYTIS2a4Y"
      },
      "source": [
        "import numpy as np\n",
        "import pandas as pd\n",
        "import matplotlib.pyplot as plt \n",
        "import seaborn as sb\n",
        "from scipy import stats"
      ],
      "execution_count": 1,
      "outputs": []
    },
    {
      "cell_type": "code",
      "metadata": {
        "colab": {
          "base_uri": "https://localhost:8080/",
          "height": 225
        },
        "id": "qhvkKsCb8YR8",
        "outputId": "4b96d8a6-757e-4364-d065-48ba8b10ef3e"
      },
      "source": [
        "expr_file = 'rpkm_KO_WT_normalized_CPM1.txt'\n",
        "expr_data = pd.read_table(expr_file, sep='\\t', header=0)\n",
        "\n",
        "samples = ['ASR324', 'ASR325', 'ASR326', 'ASR327', 'ASR328', 'ASR329']\n",
        "Groups = ['KO', 'KO', 'KO', 'WT', 'WT', 'WT']\n",
        "expr_data['Sample'] = samples\n",
        "expr_data['Group'] = Groups\n",
        "\n",
        "expr_wdfy1 = expr_data[['Group', 'Sample', 'ENSMUSG00000073643']]\n",
        "\n",
        "t, p = stats.ttest_ind(expr_wdfy1.loc[expr_wdfy1.Group=='KO', 'ENSMUSG00000073643'], expr_wdfy1.loc[expr_wdfy1.Group=='WT', 'ENSMUSG00000073643'])\n",
        "\n",
        "fig = plt.figure()\n",
        "ax = sb.boxplot(x='Group', y='ENSMUSG00000073643', data=expr_wdfy1, palette=['#CC0011', '#FF8800'], width=0.3, dodge=False, order=['WT', 'KO'], linewidth=1)\n",
        "ax = sb.swarmplot(x='Group', y='ENSMUSG00000073643', data=expr_wdfy1, color='black', size=4, order=['WT', 'KO'])\n",
        "plt.text(0.5, 0.3, str('t-test p:{:.4f}'.format(p)), ha='center', va='center', transform=ax.transAxes, fontsize='small')\n",
        "ax.set_xlabel(None)\n",
        "ax.set_ylabel('RPKM', fontsize='small')\n",
        "ax.set_title('WDFY1', fontsize='small')\n",
        "ax.set_xticklabels(['B6J Upf2 +/+', 'B6J Upf2 -/-'], rotation=20, fontsize='small')\n",
        "plt.xticks(fontsize='small')\n",
        "plt.yticks(fontsize='small')\n",
        "AR = 1.7\n",
        "dy = 14.\n",
        "dx = 2.\n",
        "ax.set_aspect(AR/(dy/dx))\n",
        "fig.set_size_inches((1.8,2.7))\n",
        "plt.show()\n"
      ],
      "execution_count": 2,
      "outputs": [
        {
          "output_type": "display_data",
          "data": {
            "image/png": "[encoded data removed]",
            "text/plain": [
              "<Figure size 129.6x194.4 with 1 Axes>"
            ]
          },
          "metadata": {
            "needs_background": "light"
          }
        }
      ]
    },
    {
      "cell_type": "markdown",
      "metadata": {
        "id": "yWV5_rsv9ew7"
      },
      "source": [
        "# The splice junction counts below come from sashimi plots in IGV for each sample."
      ]
    },
    {
      "cell_type": "code",
      "metadata": {
        "id": "o-FHYjri9Tjk"
      },
      "source": [
        "junc_names = ['1->2', '2->3', '3->4a', '4a->5a', '5a->6a', '6a->4b', '4b->5b', '5b->6b', '6b->7', '7->8', '8->9', '9->10', '10->11', '11->12']\n",
        "\n",
        "KO_24 = np.array([144, 188, 110, 165, 206, 45 , 136, 253, 242, 166, 125, 135, 153, 104], dtype=float)\n",
        "KO_25 = np.array([116, 132, 94 , 182, 246, 108, 165, 306, 176, 144, 128, 136, 131, 92 ], dtype=float)\n",
        "KO_26 = np.array([167, 223, 187, 312, 422, 132, 283, 499, 412, 236, 192, 216, 253, 153], dtype=float)\n",
        "WT_27 = np.array([28 , 26 , 33 , 76 , 62 , 25 , 58 , 92 , 59 , 36 , 27 , 27 , 25 , 14 ], dtype=float)\n",
        "WT_28 = np.array([47 , 61 , 72 , 96 , 116, 6  , 57 , 141, 123, 89 , 61 , 83 , 66 , 62 ], dtype=float)\n",
        "WT_29 = np.array([72 , 81 , 63 , 87 , 88 , 12 , 62 , 96 , 98 , 73 , 50 , 57 , 66 , 40 ], dtype=float)"
      ],
      "execution_count": 3,
      "outputs": []
    },
    {
      "cell_type": "code",
      "metadata": {
        "colab": {
          "base_uri": "https://localhost:8080/",
          "height": 186
        },
        "id": "rnlVu8D997Y7",
        "outputId": "a777c903-b480-421f-b93d-be20f43ed9c5"
      },
      "source": [
        "KO = KO_24 + KO_25 + KO_26\n",
        "WT = WT_27 + WT_28 + WT_29\n",
        "\n",
        "KO_sum = KO.sum()\n",
        "WT_sum = WT.sum()\n",
        "\n",
        "data_dict = {'KO':KO/KO_sum, 'WT':WT/WT_sum}\n",
        "data = pd.DataFrame(data=data_dict)\n",
        "data['junc'] = junc_names\n",
        "data['KO_over_WT'] = data['KO']/data['WT']\n",
        "\n",
        "#========================== changing widths of the seaborn boxplot =====================\n",
        "exonStarts=np.array([79702261,79706243,79707451,79709092,79713857,79714873,79717202,79719123,79722213,79724644,79726565,79729655,79733799,79740061,79761563], dtype=float)\n",
        "exonEnds  =np.array([79705570,79706352,79707582,79709194,79713963,79715000,79717315,79719274,79722268,79724757,79726716,79729710,79733873,79740129,79761769], dtype=float)\n",
        "\n",
        "exonWidths=(exonEnds - exonStarts)/4.\n",
        "intronWidths=(exonStarts[1:] - exonEnds[:-1])/30.\n",
        "\n",
        "### reverse order\n",
        "exonWidths = exonWidths[::-1]\n",
        "intronWidths = intronWidths[::-1]\n",
        "\n",
        "exonCenters = []\n",
        "for i in range(15):\n",
        "    ex_c = 0.\n",
        "    for j in range(0,i):\n",
        "        ex_c += exonWidths[j]+intronWidths[j]\n",
        "    ex_c += exonWidths[i]/2.\n",
        "    exonCenters.append(ex_c)\n",
        "exonCenters = np.array(exonCenters)\n",
        "\n",
        "intronCenters = []\n",
        "for i in range(14):\n",
        "    in_c = 0.\n",
        "    for j in range(0,i):\n",
        "        in_c += exonWidths[j]+intronWidths[j]\n",
        "    in_c += exonWidths[i] + intronWidths[i]/2.\n",
        "    intronCenters.append(in_c)\n",
        "intronCenters = np.array(intronCenters)\n",
        "\n",
        "fig = plt.figure()\n",
        "palette = ['gray', 'gray', 'gray', '#BF9000', '#BF9000', 'red', '#FFD966', '#FFD966', 'gray', 'gray', 'gray', 'gray', 'gray', 'gray']\n",
        "ax = sb.barplot(x='junc', y='KO_over_WT', data=data, palette=palette)\n",
        "ax.set_xticks(intronCenters)\n",
        "\n",
        "for bar,newwidth,newcenter in zip(ax.patches,intronWidths,intronCenters):\n",
        "    bar.set_x(newcenter-newwidth/2.)\n",
        "    bar.set_width(newwidth)\n",
        "\n",
        "ax.set_xlabel(None)\n",
        "ax.set_ylabel('norm. junction ratios (KO/WT)', fontsize='small')\n",
        "xticks_loc = ax.get_xticks()\n",
        "for ix, xloc in enumerate(xticks_loc):\n",
        "    index = data.index.tolist()[ix]\n",
        "    table = np.array([[KO[ix], KO_sum-KO[ix]], [WT[ix], WT_sum-WT[ix]]])\n",
        "    chi2, pv, dof, exp = stats.chi2_contingency(table)\n",
        "    if pv<5e-2 and pv>1e-3:\n",
        "        ax.text(xticks_loc[ix], data.loc[index, 'KO_over_WT']+0.05, '{:.1e}'.format(pv), ha='center', rotation=45, fontsize='small')\n",
        "    elif pv<1e-3:\n",
        "        ax.text(xticks_loc[ix], data.loc[index, 'KO_over_WT']+0.05, '{:.1e}'.format(pv), ha='center', rotation=0, fontsize='small')\n",
        "ax.set_ylim(0, 2.5)\n",
        "AR = 0.4\n",
        "dy = 2.5\n",
        "dx = intronCenters[-1] - intronCenters[0]\n",
        "ax.set_aspect(AR/(dy/dx))\n",
        "xticks = ax.get_xticklabels()\n",
        "ax.set_xticklabels(xticks, rotation=90, ha='right', fontsize='small')\n",
        "plt.show()"
      ],
      "execution_count": 4,
      "outputs": [
        {
          "output_type": "display_data",
          "data": {
            "image/png": "[encoded data removed]",
            "text/plain": [
              "<Figure size 432x288 with 1 Axes>"
            ]
          },
          "metadata": {
            "needs_background": "light"
          }
        }
      ]
    },
    {
      "cell_type": "markdown",
      "metadata": {
        "id": "9xuOpB7f-Y9Z"
      },
      "source": [
        ""
      ]
    }
  ]
}